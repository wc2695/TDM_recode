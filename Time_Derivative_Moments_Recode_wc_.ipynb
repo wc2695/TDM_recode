{
  "nbformat": 4,
  "nbformat_minor": 0,
  "metadata": {
    "colab": {
      "name": "Time Derivative Moments Recode -- wc .ipynb",
      "provenance": [],
      "collapsed_sections": []
    },
    "kernelspec": {
      "display_name": "Python 3",
      "language": "python",
      "name": "python3"
    },
    "language_info": {
      "codemirror_mode": {
        "name": "ipython",
        "version": 3
      },
      "file_extension": ".py",
      "mimetype": "text/x-python",
      "name": "python",
      "nbconvert_exporter": "python",
      "pygments_lexer": "ipython3",
      "version": "3.7.6"
    }
  },
  "cells": [
    {
      "cell_type": "code",
      "metadata": {
        "id": "G91OmybW4P-C"
      },
      "source": [
        "from scipy.io import loadmat\n",
        "import numpy as np\n",
        "import matplotlib.pyplot as plt\n",
        "from scipy import signal\n",
        "from scipy.io import loadmat\n",
        "import numpy as np\n",
        "import matplotlib.pyplot as plt\n",
        "import glob, os\n",
        "import shutil\n",
        "import statistics\n",
        "import math\n",
        "import scipy.io as sio\n",
        "from scipy.signal import find_peaks\n",
        "from scipy.spatial import distance\n",
        "from scipy.stats import kurtosis, skew\n",
        "from scipy import signal\n",
        "from scipy import stats\n",
        "from sklearn.metrics import accuracy_score\n",
        "from scipy.fftpack import fft,ifft\n",
        "from matplotlib.pylab import mpl\n",
        "from numpy import fft\n",
        "from sklearn.preprocessing import Normalizer"
      ],
      "execution_count": null,
      "outputs": []
    },
    {
      "cell_type": "code",
      "metadata": {
        "colab": {
          "base_uri": "https://localhost:8080/"
        },
        "id": "t38gQBP64R4o",
        "outputId": "0e46d1bf-7d35-40af-c668-d77370f223e2"
      },
      "source": [
        "from google.colab import drive\n",
        "drive.mount('/content/gdrive')"
      ],
      "execution_count": null,
      "outputs": [
        {
          "output_type": "stream",
          "text": [
            "Mounted at /content/gdrive\n"
          ],
          "name": "stdout"
        }
      ]
    },
    {
      "cell_type": "code",
      "metadata": {
        "colab": {
          "base_uri": "https://localhost:8080/"
        },
        "id": "RxJzltex-lYZ",
        "outputId": "a02552ad-8ffb-491b-b190-bcadfdbb26da"
      },
      "source": [
        "%cd  NinaproDB2/\n",
        "!ls"
      ],
      "execution_count": null,
      "outputs": [
        {
          "output_type": "stream",
          "text": [
            "[Errno 2] No such file or directory: 'NinaproDB2/'\n",
            "/content/gdrive/My Drive/trial_period_work/NinaproDB2\n",
            "DB2_s16      DB2_s24\t  DB2_s8.zip\t S35_E3_A1.mat\tS8_E1_A1.mat\n",
            "DB2_s16.zip  DB2_s24.zip  __MACOSX\t S36_E1_A1.mat\tS8_E2_A1.mat\n",
            "DB2_s20.zip  DB2_s25\t  S20_E1_A1.mat  S36_E2_A1.mat\tS8_E3_A1.mat\n",
            "DB2_s22      DB2_s25.zip  S20_E2_A1.mat  S36_E3_A1.mat\n",
            "DB2_s22.zip  DB2_s35.zip  S20_E3_A1.mat  S38_E1_A1.mat\n",
            "DB2_s23      DB2_s36.zip  S35_E1_A1.mat  S38_E2_A1.mat\n",
            "DB2_s23.zip  DB2_s38.zip  S35_E2_A1.mat  S38_E3_A1.mat\n"
          ],
          "name": "stdout"
        }
      ]
    },
    {
      "cell_type": "code",
      "metadata": {
        "colab": {
          "base_uri": "https://localhost:8080/"
        },
        "id": "kaShX8Uw4P-F",
        "outputId": "45497496-7cd1-4007-978b-9d63ee7b34db"
      },
      "source": [
        "trial_data = loadmat('S38_E1_A1.mat') \n",
        "print(trial_data.keys())\n",
        "#'emg', 'acc', 'stimulus', 'glove', 'inclin', 'subject', 'exercise', 'repetition', 'restimulus', 'rerepetition'"
      ],
      "execution_count": null,
      "outputs": [
        {
          "output_type": "stream",
          "text": [
            "dict_keys(['__header__', '__version__', '__globals__', 'emg', 'acc', 'stimulus', 'glove', 'inclin', 'subject', 'exercise', 'repetition', 'restimulus', 'rerepetition'])\n"
          ],
          "name": "stdout"
        }
      ]
    },
    {
      "cell_type": "markdown",
      "metadata": {
        "id": "3HlG-jyc-95M"
      },
      "source": [
        "VARIABLES IN THE FILES:\n",
        "- subject: subject number\n",
        "- exercise: exercise number **Look at paper for more notes, there are three primary exercise types**\n",
        "- stimulus (1 column): the movement repeated by the subject.\n",
        "- restimulus (1 column): again the movement repeated by the subject. In this case the duration of the movement label is refined a-posteriori in order to better correspond to the real movement (please, use the paper Gijsberts et al., 2014 (http://publications.hevs.ch/index.php/publications/show/1629) for more details about relabelling procedure) **This is the classification label**\n",
        "- repetition (1 column): repetition of the stimulus\n",
        "- rerepetition (1 column): repetition of restimulus\n",
        "- emg (12 columns): sEMG signal of the 12 electrodes **This is the primary input data**\n",
        "- acc (36 columns): three-axes accelerometers of the 12 electrodes **This is additional input data that can optionally be used to improve performance**\n",
        "- inclin (2 columns): signal from the 2 axes inclinometer positioned on the wrist\n",
        "- glove (22 columns): uncalibrated signal from the 22 sensors of the cyberglove. The cyberglove signal corresponds to raw data from the cyberglove sensors, which are declared to be proportional to the angles at the joints in the CyberGlove manual. **This is the regression output value -- these values are uncalibrated, send a message if you want the calibrated values**\n",
        "- force (6 columns): force recorded during the third exercise\n",
        "- forcecal (2 x 6 values): the force sensors calibration values, corresponding to the minimal and the maximal force."
      ]
    },
    {
      "cell_type": "code",
      "metadata": {
        "colab": {
          "base_uri": "https://localhost:8080/"
        },
        "id": "eRX-DP3z4P-G",
        "outputId": "846ce802-f816-4bb4-d1d3-3194e73ca2d6"
      },
      "source": [
        "print(\"EMG\",trial_data['emg'].shape)\n",
        "print(\"acc\",trial_data['acc'].shape)\n",
        "print(\"glove\",trial_data['glove'].shape)\n",
        "print(\"inclin\",trial_data['inclin'].shape)\n",
        "print(\"subject\",trial_data['subject'])\n",
        "print(\"exercise\",trial_data['exercise'])\n",
        "print(\"repetition\",trial_data['repetition'].shape)\n",
        "print(\"restimulus\",trial_data['restimulus'].shape)\n",
        "print(\"rerepetition\",trial_data['rerepetition'].shape)"
      ],
      "execution_count": null,
      "outputs": [
        {
          "output_type": "stream",
          "text": [
            "EMG (1773208, 12)\n",
            "acc (1773208, 36)\n",
            "glove (1773208, 22)\n",
            "inclin (1773208, 2)\n",
            "subject [[38]]\n",
            "exercise [[1]]\n",
            "repetition (1773208, 1)\n",
            "restimulus (1773208, 1)\n",
            "rerepetition (1773208, 1)\n"
          ],
          "name": "stdout"
        }
      ]
    },
    {
      "cell_type": "code",
      "metadata": {
        "id": "MApysSgJWF_Q"
      },
      "source": [
        "def NumOfWindows(total, window_length,overlap):\n",
        "  merge = True\n",
        "  timeleap = window_length-overlap\n",
        "  tolerance = window_length*0.6 #represents the minimum acceptable window length\n",
        "  #if the last window is not at least 60% of the expected window_length, it will be not be recognized as a seperate window\n",
        "  #instead it will be combine with the second last window to make one extra large window\n",
        "  num_windows = ((total-window_length)//timeleap)+1\n",
        "  # print(num_windows)\n",
        "  rem = total - (((num_windows-1)*timeleap)+window_length)\n",
        "  # print(rem, tolerance)\n",
        "  if(rem>=tolerance):\n",
        "    merge = False\n",
        "    num_windows = num_windows+1\n",
        "  return num_windows,merge"
      ],
      "execution_count": null,
      "outputs": []
    },
    {
      "cell_type": "code",
      "metadata": {
        "id": "Rm7cvAswWhFa"
      },
      "source": [
        "def GenerateFeatures(samples):\n",
        "  miu0 = np.sqrt(np.sum(samples**2))\n",
        "  samples_fft = fft.fft(samples)\n",
        "  K = np.arange(0,len(samples))\n",
        "  miu2 = np.sqrt(np.sum((K*samples_fft)**2)/window_size)\n",
        "  # print(len(K),len(samples_fft))\n",
        "  miu4 = np.sqrt(np.sum((K**2*samples_fft)**2) / window_size**2)\n",
        "  num_of_peaks = miu4 / miu2\n",
        "  f0 = miu0-miu2\n",
        "  f1 = miu0 / num_of_peaks\n",
        "  f2 = miu2 / num_of_peaks\n",
        "  f3 = miu2\n",
        "  total_features = [f0,f1,f2,f3]\n",
        "  return total_features\n",
        "\n",
        "\n"
      ],
      "execution_count": null,
      "outputs": []
    },
    {
      "cell_type": "code",
      "metadata": {
        "id": "_2sY3PFQYpnc"
      },
      "source": [
        "def getWindowLabel(window):\n",
        "  mode, counts = stats.mode(window)\n",
        "  diff = counts/len(window)\n",
        "  if (diff>0.6): #if the majority label is more than 60% of the window set as label\n",
        "    label = mode[0][0]\n",
        "  else: #else set last label as window label\n",
        "    last = len(window)\n",
        "    label = window[last-1][0]\n",
        "  return label"
      ],
      "execution_count": null,
      "outputs": []
    },
    {
      "cell_type": "code",
      "metadata": {
        "id": "F-TGqnGMY321"
      },
      "source": [
        "def ReverseModeWindow(orginal_length,mode_windows,window_size,overlap,merge):\n",
        "  reversedWindows = np.zeros(orginal_length)\n",
        "  timeleap = window_size-overlap\n",
        "  num_windows = len(mode_windows)\n",
        "  start = 0\n",
        "  end = start+window_size\n",
        "  for i in range(1,num_windows+1):\n",
        "    reversedWindows[start:end] = mode_windows[i-1]\n",
        "    start = start + timeleap\n",
        "    end = start + window_size\n",
        "    if(merge and i == num_windows-1): \n",
        "      end = orginal_length\n",
        "  return reversedWindows"
      ],
      "execution_count": null,
      "outputs": []
    },
    {
      "cell_type": "code",
      "metadata": {
        "id": "Ptn7g3w5Y4wX"
      },
      "source": [
        "def GetFeatureData(f,window_length,overlap,num_features):\n",
        "  timeleap = window_length-overlap \n",
        "  trial_data = loadmat(f) \n",
        "  trail_label = trial_data['restimulus']\n",
        "  trial_data = trial_data['emg']\n",
        "  total = trial_data.shape[0] # 1773208 rows / total samples\n",
        "  num_windows,merge= NumOfWindows(total, window_length,overlap)\n",
        "  featureData = np.zeros((num_windows,num_features*12))\n",
        "  featureLabel = np.zeros(num_windows) # number of labels \n",
        "  ind = 0\n",
        "  windowStart = 0\n",
        "  windowEnd = windowStart + window_length\n",
        "  while(ind<num_windows):\n",
        "    window = trail_label[windowStart:windowEnd]\n",
        "    label = getWindowLabel(window) # get a label for a window\n",
        "    featured_data = np.zeros((num_features*12))\n",
        "    for j in range(12):\n",
        "      # print(\"start\",windowStart,\"end\",windowEnd)\n",
        "      sig = trial_data[windowStart:windowEnd,j] # for every columns / channels\n",
        "      features = GenerateFeatures(sig) # generate corresponding features for a window\n",
        "      features = np.array(features)\n",
        "      featured_data[num_features*(j):num_features*(j+1)] = features\n",
        "    windowStart = windowStart + timeleap\n",
        "    windowEnd = windowStart + window_length\n",
        "    if(merge and ind == num_windows-1): \n",
        "      end = total\n",
        "    featured_data = np.nan_to_num(featured_data)\n",
        "    # print(ind)\n",
        "    featureData[ind,:]= featured_data\n",
        "    featureLabel[ind] = label\n",
        "    ind = ind + 1\n",
        "  # print(featureData.shape)\n",
        "  # print(featureLabel.shape)\n",
        "  return featureData,featureLabel,merge"
      ],
      "execution_count": null,
      "outputs": []
    },
    {
      "cell_type": "code",
      "metadata": {
        "id": "GMudyaPJaqWi"
      },
      "source": [
        "def GetDataOverSubject(subjectNum,exerNum,window_length,overlap,num_features):\n",
        "  All_Data = np.zeros((num_features*12))\n",
        "  All_Labels = np.zeros((1))\n",
        "  Estimated_Labels = np.zeros((1))\n",
        "  All_Real_Labels = np.zeros((1,1))\n",
        "  for sub in subjectNum:\n",
        "    print(\"Subject\",sub)\n",
        "    f = 'S%s_E%s_A1.mat' % (sub,exerNum)\n",
        "    label = loadmat(f) \n",
        "    label = label['rerepetition']\n",
        "    # print(label.shape)\n",
        "    All_Real_Labels =  np.vstack((All_Real_Labels, label))#the actual labels\n",
        "    # print(All_Real_Labels.shape)\n",
        "    featureData,featureLabel,merge = GetFeatureData(f,window_length,overlap,num_features)\n",
        "    All_Data = np.vstack((All_Data,featureData))\n",
        "    All_Labels = np.hstack((All_Labels,featureLabel)) #windowed labels\n",
        "    estimated_label = ReverseModeWindow(len(label),featureLabel,window_length,overlap,merge) \n",
        "    Estimated_Labels = np.hstack((Estimated_Labels, estimated_label)) #windowed labels supersampled\n",
        "  All_Data = All_Data[1:len(All_Data),:]\n",
        "  All_Labels = All_Labels[1:len(All_Labels)]\n",
        "  Estimated_Labels = Estimated_Labels[1:len(Estimated_Labels)]\n",
        "  All_Real_Labels = All_Real_Labels[1:len(All_Real_Labels),:]\n",
        "  return All_Data,All_Labels,Estimated_Labels,All_Real_Labels"
      ],
      "execution_count": null,
      "outputs": []
    },
    {
      "cell_type": "code",
      "metadata": {
        "colab": {
          "base_uri": "https://localhost:8080/"
        },
        "id": "BRjNHX2taqeY",
        "outputId": "2ba099f1-06a0-43cb-e0af-57df513a3fe3"
      },
      "source": [
        "window_size = 300\n",
        "overlap = 50\n",
        "delay = (window_size-overlap)/600\n",
        "# print(\"The delay in prediction is \", delay, \"seconds\")\n",
        "# if (delay > 0.3):\n",
        "#   print(\"WARNING! YOUR DELAY IS TOO LARGE!\")\n",
        "features = 4\n",
        "train_subjects = ['8','36','38']\n",
        "train_data,train_labels,train_estimated_labels,train_real_labels = GetDataOverSubject(train_subjects,'1',window_size,overlap,features)\n",
        "test_1 = ['20']\n",
        "test_2 = ['35']\n",
        "test_data1,test_labels1,test_estimated_labels1,test_real_labels1 = GetDataOverSubject(test_1,'1',window_size,overlap,features)\n",
        "test_data2,test_labels2,test_estimated_labels2,test_real_labels2 = GetDataOverSubject(test_2,'1',window_size,overlap,features)\n",
        "print(\"Training Feature Data\",train_data.shape,\"Training Feature Labels\",train_labels.shape)\n",
        "print(\"Training True Label\",train_real_labels.shape,\"Train expanded labels\",train_estimated_labels.shape)\n",
        "print(\"Test 1 Feature Data\",test_data1.shape,\"Test 1  Feature Labels\",test_estimated_labels1.shape)\n",
        "print(\"Test 1  True Label\",test_real_labels1.shape,\"Test 1  expanded labels\",test_estimated_labels1.shape)\n",
        "print(\"Test 2  Feature Data\",test_data2.shape,\"Test 2 Feature Labels\",test_labels2.shape)\n",
        "print(\"Test 2 True Label\",test_real_labels2.shape,\"Test 2 expanded labels\",test_estimated_labels2.shape)"
      ],
      "execution_count": null,
      "outputs": [
        {
          "output_type": "stream",
          "text": [
            "Subject 8\n"
          ],
          "name": "stdout"
        },
        {
          "output_type": "stream",
          "text": [
            "/usr/local/lib/python3.7/dist-packages/ipykernel_launcher.py:22: ComplexWarning: Casting complex values to real discards the imaginary part\n"
          ],
          "name": "stderr"
        },
        {
          "output_type": "stream",
          "text": [
            "Subject 36\n",
            "Subject 38\n",
            "Subject 20\n",
            "Subject 35\n",
            "Training Feature Data (21393, 48) Training Feature Labels (21393,)\n",
            "Training True Label (5348544, 1) Train expanded labels (5348544,)\n",
            "Test 1 Feature Data (7205, 48) Test 1  Feature Labels (1801389,)\n",
            "Test 1  True Label (1801389, 1) Test 1  expanded labels (1801389,)\n",
            "Test 2  Feature Data (7078, 48) Test 2 Feature Labels (7078,)\n",
            "Test 2 True Label (1769567, 1) Test 2 expanded labels (1769567,)\n"
          ],
          "name": "stdout"
        }
      ]
    },
    {
      "cell_type": "code",
      "metadata": {
        "colab": {
          "base_uri": "https://localhost:8080/"
        },
        "id": "vYxnDSXAmSn-",
        "outputId": "69d14c4f-178d-4876-8a5c-52b897ef535b"
      },
      "source": [
        "from sklearn.discriminant_analysis import LinearDiscriminantAnalysis\n",
        "transformer = Normalizer().fit(train_data)\n",
        "tranformed_train_data = transformer.transform(train_data)\n",
        "tranformed_test_data1 = transformer.transform(test_data1)\n",
        "tranformed_test_data2 = transformer.transform(test_data2)\n",
        "clf = LinearDiscriminantAnalysis()\n",
        "clf.fit(tranformed_train_data,train_labels)\n",
        "pred1 = clf.predict(tranformed_test_data1)\n",
        "pred2 = clf.predict(tranformed_test_data2)\n",
        "acc1 = accuracy_score(test_labels1, pred1)\n",
        "acc2 = accuracy_score(test_labels2, pred2)\n",
        "print(\"Test 1 Accuracy\",acc1)\n",
        "print(\"Test 2 Accuracy\",acc2)\n",
        "mean_acc = (acc1+acc2)/2\n",
        "print(\"Average Test Accuracy\",mean_acc)"
      ],
      "execution_count": null,
      "outputs": [
        {
          "output_type": "stream",
          "text": [
            "Test 1 Accuracy 0.4484385843164469\n",
            "Test 2 Accuracy 0.3224074597343882\n",
            "Average Test Accuracy 0.38542302202541756\n"
          ],
          "name": "stdout"
        }
      ]
    },
    {
      "cell_type": "code",
      "metadata": {
        "colab": {
          "base_uri": "https://localhost:8080/"
        },
        "id": "yYcpA6AXI9hC",
        "outputId": "a7e4cf10-dc3e-4b86-dab2-1e4eb308c3e7"
      },
      "source": [
        "from sklearn.discriminant_analysis import QuadraticDiscriminantAnalysis\n",
        "transformer = Normalizer().fit(train_data)\n",
        "tranformed_train_data = transformer.transform(train_data)\n",
        "tranformed_test_data1 = transformer.transform(test_data1)\n",
        "tranformed_test_data2 = transformer.transform(test_data2)\n",
        "clf = QuadraticDiscriminantAnalysis()\n",
        "clf.fit(tranformed_train_data,train_labels)\n",
        "pred1 = clf.predict(tranformed_test_data1)\n",
        "pred2 = clf.predict(tranformed_test_data2)\n",
        "acc1 = accuracy_score(test_labels1, pred1)\n",
        "acc2 = accuracy_score(test_labels2, pred2)\n",
        "print(\"Test 1 Accuracy\",acc1)\n",
        "print(\"Test 2 Accuracy\",acc2)\n",
        "mean_acc = (acc1+acc2)/2\n",
        "print(\"Average Test Accuracy\",mean_acc)"
      ],
      "execution_count": null,
      "outputs": [
        {
          "output_type": "stream",
          "text": [
            "/usr/local/lib/python3.7/dist-packages/sklearn/discriminant_analysis.py:691: UserWarning: Variables are collinear\n",
            "  warnings.warn(\"Variables are collinear\")\n"
          ],
          "name": "stderr"
        },
        {
          "output_type": "stream",
          "text": [
            "Test 1 Accuracy 0.04011103400416378\n",
            "Test 2 Accuracy 0.21263068663464255\n",
            "Average Test Accuracy 0.12637086031940317\n"
          ],
          "name": "stdout"
        }
      ]
    },
    {
      "cell_type": "code",
      "metadata": {
        "colab": {
          "base_uri": "https://localhost:8080/"
        },
        "id": "6jfSiEwwNOR_",
        "outputId": "ef85392c-356c-429c-a77c-2e9214492920"
      },
      "source": [
        "from sklearn import svm\n",
        "transformer = Normalizer().fit(train_data)\n",
        "tranformed_train_data = transformer.transform(train_data)\n",
        "tranformed_test_data1 = transformer.transform(test_data1)\n",
        "tranformed_test_data2 = transformer.transform(test_data2)\n",
        "clf = svm.SVC()\n",
        "clf.fit(tranformed_train_data,train_labels)\n",
        "pred1 = clf.predict(tranformed_test_data1)\n",
        "pred2 = clf.predict(tranformed_test_data2)\n",
        "acc1 = accuracy_score(test_labels1, pred1)\n",
        "acc2 = accuracy_score(test_labels2, pred2)\n",
        "print(\"Test 1 Accuracy\",acc1)\n",
        "print(\"Test 2 Accuracy\",acc2)\n",
        "mean_acc = (acc1+acc2)/2\n",
        "print(\"Average Test Accuracy\",mean_acc)"
      ],
      "execution_count": null,
      "outputs": [
        {
          "output_type": "stream",
          "text": [
            "Test 1 Accuracy 0.4439972241498959\n",
            "Test 2 Accuracy 0.3174625600452105\n",
            "Average Test Accuracy 0.3807298920975532\n"
          ],
          "name": "stdout"
        }
      ]
    },
    {
      "cell_type": "code",
      "metadata": {
        "colab": {
          "base_uri": "https://localhost:8080/",
          "height": 516
        },
        "id": "O9TobFa98wbg",
        "outputId": "09b86c02-6537-4b4c-dc28-448ce89632c4"
      },
      "source": [
        "print('Measured Accuracy -- mode labels vs real labels',accuracy_score(test_labels1, pred1))\n",
        "plt.figure(figsize=(18,8))\n",
        "plt.title('Measured Accuracy -- mode labels vs real labels')\n",
        "plt.plot(test_labels1)\n",
        "plt.plot(pred1)\n",
        "plt.legend(['Test Labels','Predicted Labels'])\n",
        "plt.show()"
      ],
      "execution_count": null,
      "outputs": [
        {
          "output_type": "stream",
          "text": [
            "Measured Accuracy -- mode labels vs real labels 0.4439972241498959\n"
          ],
          "name": "stdout"
        },
        {
          "output_type": "display_data",
          "data": {
            "image/png": "[encoded data removed]",
            "text/plain": [
              "<Figure size 1296x576 with 1 Axes>"
            ]
          },
          "metadata": {
            "tags": [],
            "needs_background": "light"
          }
        }
      ]
    },
    {
      "cell_type": "code",
      "metadata": {
        "colab": {
          "base_uri": "https://localhost:8080/",
          "height": 605
        },
        "id": "O_gx0oij4P-H",
        "outputId": "e5a9012c-3e31-4c43-e387-fea501a9a147"
      },
      "source": [
        "plt.figure(figsize=(8,10))\n",
        "plt.yticks(np.arange(1, np.max(trial_data['restimulus'])+1, 1.0))\n",
        "plt.plot(trial_data['restimulus'])\n",
        "plt.ylabel('restimulus')\n",
        "plt.show()"
      ],
      "execution_count": null,
      "outputs": [
        {
          "output_type": "display_data",
          "data": {
            "image/png": "[encoded data removed]",
            "text/plain": [
              "<Figure size 576x720 with 1 Axes>"
            ]
          },
          "metadata": {
            "tags": [],
            "needs_background": "light"
          }
        }
      ]
    }
  ]
}